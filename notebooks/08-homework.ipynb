{
 "cells": [
  {
   "metadata": {},
   "cell_type": "markdown",
   "source": "### Easy + Medium",
   "id": "e7135c6f352cf85c"
  },
  {
   "metadata": {
    "ExecuteTime": {
     "end_time": "2024-05-31T19:49:04.789148Z",
     "start_time": "2024-05-31T19:49:04.784045Z"
    }
   },
   "cell_type": "code",
   "source": [
    "from pathlib import Path\n",
    "import zipfile\n",
    "import os\n",
    "import pandas as pd\n",
    "\n",
    "\n",
    "def extract(zip_folder, language):\n",
    "    extensions = {\n",
    "        'Python': ['.py'],  # +\n",
    "        'C++': ['.cpp', '.h', '.hpp'],  # +\n",
    "        'JavaScript': ['.js'],  # +\n",
    "        'Java': ['.java'],  # +\n",
    "        'Yaml': ['.yaml', '.yml'],\n",
    "        'Bash': ['.sh'],\n",
    "        'Markdown': ['.markdown', '.md'],\n",
    "        'C': ['.c', '.h'],  # +\n",
    "        'Kotlin': ['.kt'],  # +\n",
    "        'Haskel': ['.hs'],  # +\n",
    "\n",
    "    }\n",
    "\n",
    "    file_extensions = extensions.get(language, [])\n",
    "    if not file_extensions:\n",
    "        return []\n",
    "\n",
    "    data_lst = []\n",
    "    zip_folder_path = Path(zip_folder)\n",
    "\n",
    "    for zip_path in zip_folder_path.glob('*.zip'):\n",
    "        with zipfile.ZipFile(zip_path, 'r') as zip_ref:\n",
    "            files = [f for f in zip_ref.namelist() if any(f.lower().endswith(ext.lower()) for ext in file_extensions)]\n",
    "            for file_name in files:\n",
    "                file_path = zip_folder_path / file_name\n",
    "                file_path.parent.mkdir(parents=True, exist_ok=True)\n",
    "                try:\n",
    "                    zip_ref.extract(file_name, zip_folder_path)\n",
    "                    with open(file_path, 'r', encoding='utf-8') as file:\n",
    "                        code_content = file.read()\n",
    "                    data_lst.append({'language': language, 'code': code_content})\n",
    "                except UnicodeDecodeError:\n",
    "                    pass\n",
    "                except Exception as e:\n",
    "                    pass\n",
    "                finally:\n",
    "                    if file_path.exists():\n",
    "                        os.remove(file_path)\n",
    "\n",
    "    df = pd.DataFrame(data_lst, columns=['language', 'code'])\n",
    "    return df"
   ],
   "id": "5d92bf20ad59dfcd",
   "outputs": [],
   "execution_count": 29
  },
  {
   "metadata": {
    "ExecuteTime": {
     "end_time": "2024-05-31T19:49:34.602820Z",
     "start_time": "2024-05-31T19:49:04.796157Z"
    }
   },
   "cell_type": "code",
   "source": [
    "python = extract('../scripts/python', 'Python')\n",
    "print(len(python))"
   ],
   "id": "2752f7cf5d61e5de",
   "outputs": [
    {
     "name": "stdout",
     "output_type": "stream",
     "text": [
      "6634\n"
     ]
    }
   ],
   "execution_count": 30
  },
  {
   "metadata": {
    "ExecuteTime": {
     "end_time": "2024-05-31T19:49:59.340654Z",
     "start_time": "2024-05-31T19:49:34.602820Z"
    }
   },
   "cell_type": "code",
   "source": [
    "js = extract('../scripts/js', 'JavaScript')\n",
    "print(len(js))"
   ],
   "id": "20534f7c64cf72a4",
   "outputs": [
    {
     "name": "stdout",
     "output_type": "stream",
     "text": [
      "4389\n"
     ]
    }
   ],
   "execution_count": 31
  },
  {
   "metadata": {
    "ExecuteTime": {
     "end_time": "2024-05-31T19:50:17.491455Z",
     "start_time": "2024-05-31T19:49:59.341777Z"
    }
   },
   "cell_type": "code",
   "source": [
    "cpp = extract('../scripts/cpp', 'C++')\n",
    "print(len(cpp))"
   ],
   "id": "52f5745c23842a44",
   "outputs": [
    {
     "name": "stdout",
     "output_type": "stream",
     "text": [
      "5325\n"
     ]
    }
   ],
   "execution_count": 32
  },
  {
   "metadata": {
    "ExecuteTime": {
     "end_time": "2024-05-31T19:50:50.008581Z",
     "start_time": "2024-05-31T19:50:17.492467Z"
    }
   },
   "cell_type": "code",
   "source": [
    "java = extract('../scripts/java', 'Java')\n",
    "print(len(java))"
   ],
   "id": "8f3f770e0ffffe62",
   "outputs": [
    {
     "name": "stdout",
     "output_type": "stream",
     "text": [
      "6215\n"
     ]
    }
   ],
   "execution_count": 33
  },
  {
   "metadata": {
    "ExecuteTime": {
     "end_time": "2024-05-31T19:51:10.771415Z",
     "start_time": "2024-05-31T19:50:50.009654Z"
    }
   },
   "cell_type": "code",
   "source": [
    "yaml = extract('../scripts/yaml', 'Yaml')\n",
    "print(len(yaml))"
   ],
   "id": "e80b8dd823290c25",
   "outputs": [
    {
     "name": "stdout",
     "output_type": "stream",
     "text": [
      "6585\n"
     ]
    }
   ],
   "execution_count": 34
  },
  {
   "metadata": {
    "ExecuteTime": {
     "end_time": "2024-05-31T19:51:39.260320Z",
     "start_time": "2024-05-31T19:51:10.771415Z"
    }
   },
   "cell_type": "code",
   "source": [
    "c = extract('../scripts/c', 'C')\n",
    "print(len(c))"
   ],
   "id": "1c764771d9e41f9",
   "outputs": [
    {
     "name": "stdout",
     "output_type": "stream",
     "text": [
      "7856\n"
     ]
    }
   ],
   "execution_count": 35
  },
  {
   "metadata": {
    "ExecuteTime": {
     "end_time": "2024-05-31T19:51:57.295252Z",
     "start_time": "2024-05-31T19:51:39.260320Z"
    }
   },
   "cell_type": "code",
   "source": [
    "kotlin = extract('../scripts/kotlin', 'Kotlin')\n",
    "print(len(kotlin))"
   ],
   "id": "5ea6f081c9ce867",
   "outputs": [
    {
     "name": "stdout",
     "output_type": "stream",
     "text": [
      "4592\n"
     ]
    }
   ],
   "execution_count": 36
  },
  {
   "metadata": {
    "ExecuteTime": {
     "end_time": "2024-05-31T19:52:36.174002Z",
     "start_time": "2024-05-31T19:51:57.295252Z"
    }
   },
   "cell_type": "code",
   "source": [
    "markdown = extract('../scripts/yaml', 'Markdown')\n",
    "print(len(markdown))"
   ],
   "id": "da923dfa1e418a92",
   "outputs": [
    {
     "name": "stdout",
     "output_type": "stream",
     "text": [
      "8878\n"
     ]
    }
   ],
   "execution_count": 37
  },
  {
   "metadata": {
    "ExecuteTime": {
     "end_time": "2024-05-31T19:52:52.075101Z",
     "start_time": "2024-05-31T19:52:36.175010Z"
    }
   },
   "cell_type": "code",
   "source": [
    "haskel = extract('../scripts/haskell', 'Haskel')\n",
    "print(len(haskel))"
   ],
   "id": "8440a1fa2a60d117",
   "outputs": [
    {
     "name": "stdout",
     "output_type": "stream",
     "text": [
      "4590\n"
     ]
    }
   ],
   "execution_count": 38
  },
  {
   "metadata": {
    "ExecuteTime": {
     "end_time": "2024-05-31T19:53:05.665619Z",
     "start_time": "2024-05-31T19:52:52.076108Z"
    }
   },
   "cell_type": "code",
   "source": [
    "bash = extract('../scripts/bash', 'Bash')\n",
    "print(len(bash))"
   ],
   "id": "c8d7c1befd62a78a",
   "outputs": [
    {
     "name": "stdout",
     "output_type": "stream",
     "text": [
      "2774\n"
     ]
    }
   ],
   "execution_count": 39
  },
  {
   "metadata": {
    "ExecuteTime": {
     "end_time": "2024-05-31T19:53:05.757406Z",
     "start_time": "2024-05-31T19:53:05.666123Z"
    }
   },
   "cell_type": "code",
   "source": [
    "other_src = pd.read_csv('../scripts/eng/english.csv')\n",
    "other = other_src[['text']].copy()\n",
    "other.rename(columns={'text': 'code'}, inplace=True)\n",
    "other['language'] = 'Other'\n",
    "print(len(other))"
   ],
   "id": "64759af3d0b55d54",
   "outputs": [
    {
     "name": "stdout",
     "output_type": "stream",
     "text": [
      "10000\n"
     ]
    }
   ],
   "execution_count": 40
  },
  {
   "metadata": {
    "ExecuteTime": {
     "end_time": "2024-05-31T19:53:05.945423Z",
     "start_time": "2024-05-31T19:53:05.757406Z"
    }
   },
   "cell_type": "code",
   "source": [
    "from matplotlib import pyplot as plt\n",
    "from sklearn.linear_model import LogisticRegression\n",
    "from sklearn.metrics import accuracy_score\n",
    "from catboost import CatBoostClassifier\n",
    "from sklearn.model_selection import train_test_split\n",
    "import seaborn as sns\n",
    "\n",
    "data = pd.concat([python, cpp, js, java, yaml, c, kotlin, haskel, markdown, bash, other], ignore_index=True)\n",
    "# data = pd.concat([python, cpp, js, java, yaml, kotlin, other], ignore_index=True)\n",
    "\n",
    "data.dropna(inplace=True)\n",
    "\n",
    "print(f'Size: {len(data)}')\n",
    "\n",
    "x = data['code']\n",
    "y = data['language']"
   ],
   "id": "5ff6475225203b83",
   "outputs": [
    {
     "name": "stdout",
     "output_type": "stream",
     "text": [
      "Size: 67838\n"
     ]
    }
   ],
   "execution_count": 41
  },
  {
   "metadata": {
    "ExecuteTime": {
     "end_time": "2024-05-31T19:53:06.010289Z",
     "start_time": "2024-05-31T19:53:05.945423Z"
    }
   },
   "cell_type": "code",
   "source": [
    "language_counts = data['language'].value_counts()\n",
    "languages = language_counts.index.tolist()\n",
    "number_of_reviews = language_counts.tolist()\n",
    "\n",
    "colors = sns.light_palette('seagreen', len(languages))\n",
    "\n",
    "plt.pie(number_of_reviews, labels=languages, colors=colors, autopct='%.0f%%')\n",
    "plt.show()"
   ],
   "id": "5b8983abc63fc292",
   "outputs": [
    {
     "data": {
      "text/plain": [
       "<Figure size 640x480 with 1 Axes>"
      ],
      "image/png": "[encoded data removed]"
     },
     "metadata": {},
     "output_type": "display_data"
    }
   ],
   "execution_count": 42
  },
  {
   "metadata": {
    "ExecuteTime": {
     "end_time": "2024-05-31T19:53:06.014528Z",
     "start_time": "2024-05-31T19:53:06.010289Z"
    }
   },
   "cell_type": "code",
   "source": [
    "def save_files(language, n, output_dir):\n",
    "    if not os.path.exists(output_dir):\n",
    "        os.makedirs(output_dir)\n",
    "\n",
    "    filtered_data = data[data['language'] == language]\n",
    "\n",
    "    sampled_data = filtered_data.sample(n=min(n, len(filtered_data)),\n",
    "                                        random_state=1)\n",
    "\n",
    "    # Save each file\n",
    "    for i, row in enumerate(sampled_data.itertuples(), start=1):\n",
    "        file_path = os.path.join(output_dir, f\"{language}_sample_{i}.txt\")\n",
    "        with open(file_path, 'w', encoding='utf-8') as file:\n",
    "            file.write(row.code)\n",
    "\n",
    "# save_files('JavaScript', 2, 'files')"
   ],
   "id": "3bec60db1d5afde3",
   "outputs": [],
   "execution_count": 43
  },
  {
   "metadata": {
    "ExecuteTime": {
     "end_time": "2024-05-31T19:53:26.477747Z",
     "start_time": "2024-05-31T19:53:06.014528Z"
    }
   },
   "cell_type": "code",
   "source": [
    "from sklearn.feature_extraction.text import TfidfVectorizer\n",
    "\n",
    "vectorizer = TfidfVectorizer()\n",
    "x_vectorized = vectorizer.fit_transform(x)\n",
    "\n",
    "x_train, x_test, y_train, y_test = train_test_split(x_vectorized, y, test_size=0.2, random_state=42)"
   ],
   "id": "e0ab3df530c0ab24",
   "outputs": [],
   "execution_count": 44
  },
  {
   "metadata": {
    "ExecuteTime": {
     "end_time": "2024-05-31T19:53:26.480674Z",
     "start_time": "2024-05-31T19:53:26.477747Z"
    }
   },
   "cell_type": "code",
   "source": [
    "# model = CatBoostClassifier(iterations=1500, learning_rate=0.15, verbose=True, task_type='GPU')\n",
    "# model.fit(x_train, y_train)\n",
    "# \n",
    "# predictions = model.predict(x_test)\n",
    "# accuracy = accuracy_score(y_test, predictions)\n",
    "# print(f'Accuracy: {accuracy * 100:.2f}%')"
   ],
   "id": "f6a4047ff2f31eab",
   "outputs": [],
   "execution_count": 45
  },
  {
   "metadata": {
    "ExecuteTime": {
     "end_time": "2024-05-31T19:53:36.874597Z",
     "start_time": "2024-05-31T19:53:26.481683Z"
    }
   },
   "cell_type": "code",
   "source": [
    "model = LogisticRegression(verbose=True, solver='saga')\n",
    "model.fit(x_train, y_train)\n",
    "\n",
    "predictions = model.predict(x_test)\n",
    "accuracy = accuracy_score(y_test, predictions)\n",
    "print(f'Accuracy: {accuracy * 100:.2f}%')"
   ],
   "id": "123a466412387533",
   "outputs": [
    {
     "name": "stdout",
     "output_type": "stream",
     "text": [
      "convergence after 24 epochs took 10 seconds\n",
      "Accuracy: 93.09%\n"
     ]
    }
   ],
   "execution_count": 46
  },
  {
   "metadata": {
    "ExecuteTime": {
     "end_time": "2024-05-31T19:53:40.813610Z",
     "start_time": "2024-05-31T19:53:36.874597Z"
    }
   },
   "cell_type": "code",
   "source": [
    "import joblib\n",
    "\n",
    "joblib.dump((vectorizer, model), 'model.pkl')"
   ],
   "id": "a003845dca2b56d0",
   "outputs": [
    {
     "data": {
      "text/plain": [
       "['model.pkl']"
      ]
     },
     "execution_count": 47,
     "metadata": {},
     "output_type": "execute_result"
    }
   ],
   "execution_count": 47
  },
  {
   "metadata": {
    "ExecuteTime": {
     "end_time": "2024-05-31T19:53:40.936752Z",
     "start_time": "2024-05-31T19:53:40.813610Z"
    }
   },
   "cell_type": "code",
   "source": [
    "my_x_test = [(\"model = LogisticRegression(verbose=True)\"\n",
    "              \"model.fit(x_train, y_train)\"\n",
    "              \"predictions = model.predict(x_test)\"\n",
    "              \"accuracy = accuracy_score(y_test, predictions)\"\n",
    "              \"print(f'Accuracy: {accuracy * 100:.2f}%')\"),\n",
    "             (\"void *operator new(size_t n) {\"\n",
    "              \"    if (!mem) {\"\n",
    "              \"        mem = static_cast<int8_t *>(malloc(MAX_MEM));\"\n",
    "              \"    }\"\n",
    "              \"    size_t pos = alignUp(m_pos, alignof(std::max_align_t));\"\n",
    "              \"\"\n",
    "              \"    if (pos + n > MAX_MEM) {\"\n",
    "              \"        throw std::bad_alloc();\"\n",
    "              \"    }\"\n",
    "              \"\"\n",
    "              \"    m_pos = pos + n;\"\n",
    "              \"    return mem + pos;\"\n",
    "              \"}\"),\n",
    "             (\n",
    "                 \"Karim Khan did not provide specific details of attempts to interfere in the ICC’s work, but he noted a clause in the court’s foundational treaty that made any such interference a criminal offence. If the conduct continued, he added, “my office will not hesitate to act”.\"\n",
    "\n",
    "                 \"The prosecutor did not say who had attempted to intervene in the administration of justice, or how exactly they had done so.\"\n",
    "\n",
    "                 \"Now, an investigation by the Guardian and the Israeli-based magazines +972 and Local Call can reveal how Israel has run an almost decade-long secret “war” against the court. The country deployed its intelligence agencies to surveil, hack, pressure, smear and allegedly threaten senior ICC staff in an effort to derail the court’s inquiries.\"),\n",
    "             (\"package com.core.example.arrays;\"\n",
    "\n",
    "              \"import java.util.ArrayList;\"\n",
    "              \"import java.util.List;\"\n",
    "\n",
    "              \"public class ArrayListToArrayConversion {\"\n",
    "\n",
    "              \"\tpublic static void main(String[] args) {\"\n",
    "              \"\t\tList<Integer> al = new ArrayList<Integer>();\"\n",
    "              \"\t\tal.add(10);\"\n",
    "              \"\t\tal.add(20);\"\n",
    "              \"\t\tal.add(30);\"\n",
    "              \"\t\tal.add(40);\"\n",
    "              \"\t\tal.add(50);\"\n",
    "\n",
    "              \"\t\tInteger[] arr = new Integer[al.size()];\"\n",
    "              \"\t\tarr = al.toArray(arr);\"\n",
    "              \"\t\tfor(Integer x: arr) {\"\n",
    "              \"\t\tSystem.out.print(x + \" \");\"\n",
    "              \"\t\t}\"\n",
    "              \"\t}\"\n",
    "              \"}\"),\n",
    "             (\"language: python\"\n",
    "              \"python: 2.7\"\n",
    "              \"\"\n",
    "              \"# Use the new container infrastructure\"\n",
    "              \"sudo: false\"\n",
    "              \"\"\n",
    "              \"# Install ansible\"\n",
    "              \"addons:\"\n",
    "              \"  apt:\"\n",
    "              \"    packages:\"\n",
    "              \"    - python-pip\"\n",
    "              \"\"\n",
    "              \"install:\"\n",
    "              \"  # Install ansible\"\n",
    "              \"  - pip install ansible\"\n",
    "              \"\"\n",
    "              \"  # Check ansible version\"\n",
    "              \"  - ansible --version\"\n",
    "              \"\"\n",
    "              \"  # Create ansible.cfg with correct roles_path\"\n",
    "              \"  - printf '[defaults]\\nroles_path=../' >ansible.cfg\"\n",
    "              \"\"\n",
    "              \"script:\"\n",
    "              \"  # Basic role syntax check\"\n",
    "              \"  - ansible-playbook tests/test.yml -i tests/inventory --syntax-check\"\n",
    "              \"\"\n",
    "              \"notifications:\"\n",
    "              \"  webhooks: https://galaxy.ansible.com/api/v1/notifications/\")]\n",
    "\n",
    "gpt_x = [\n",
    "    \"print('Hello, world!')\",  # Python\n",
    "    \"#include<iostream>\\nint main() { std::cout << 'Hello, world!' << std::endl; return 0; }\",  # C++\n",
    "    \"console.log('Hello, world!');\",  # JavaScript\n",
    "    \"public class Main { public static void main(String[] args) { System.out.println('Hello, world!'); } }\",  # Java\n",
    "    (\"install:\"\n",
    "     \"  # Install ansible\"\n",
    "     \"  - pip install ansible\"\n",
    "     \"\"\n",
    "     \"  # Check ansible version\"\n",
    "     \"  - ansible --version\"),  # Yaml\n",
    "    \"echo Hello, world!\",  # Bash\n",
    "    \"# Hello, world!\",  # Markdown\n",
    "    \"#include<stdio.h>\\nint main() { printf('Hello, world!\\\\n'); return 0; }\",  # C\n",
    "    \"fun main() { println('Hello, world!') }\",  # Kotlin\n",
    "    \"main = putStrLn 'Hello, world!'\",  # Haskell\n",
    "]\n",
    "\n",
    "my_x_processed = vectorizer.transform(my_x_test)\n",
    "gpy_x_processed = vectorizer.transform(gpt_x)\n",
    "\n",
    "my_preds = model.predict(my_x_processed)\n",
    "print(my_preds)\n",
    "gpt_preds = model.predict(gpy_x_processed)\n",
    "print(gpt_preds)"
   ],
   "id": "e614afd0105dda46",
   "outputs": [
    {
     "name": "stdout",
     "output_type": "stream",
     "text": [
      "['Python' 'C++' 'Markdown' 'Java' 'Yaml']\n",
      "['Python' 'C++' 'JavaScript' 'Java' 'Yaml' 'Bash' 'Markdown' 'C' 'Kotlin'\n",
      " 'Haskel']\n"
     ]
    }
   ],
   "execution_count": 48
  },
  {
   "metadata": {
    "ExecuteTime": {
     "end_time": "2024-05-31T19:53:44.269366Z",
     "start_time": "2024-05-31T19:53:40.937758Z"
    }
   },
   "cell_type": "code",
   "source": "!C:\\Users\\dv\\AppData\\Local\\Programs\\Python\\Python312\\python.exe lang_detector.py test.py",
   "id": "67b578c2c6945dd7",
   "outputs": [
    {
     "name": "stdout",
     "output_type": "stream",
     "text": [
      "Python\n"
     ]
    }
   ],
   "execution_count": 49
  },
  {
   "metadata": {},
   "cell_type": "markdown",
   "source": "### Hard",
   "id": "1962b59c41e44d00"
  }
 ],
 "metadata": {
  "kernelspec": {
   "display_name": "Python 3 (ipykernel)",
   "language": "python",
   "name": "python3"
  },
  "language_info": {
   "codemirror_mode": {
    "name": "ipython",
    "version": 3
   },
   "file_extension": ".py",
   "mimetype": "text/x-python",
   "name": "python",
   "nbconvert_exporter": "python",
   "pygments_lexer": "ipython3",
   "version": "3.11.5"
  }
 },
 "nbformat": 4,
 "nbformat_minor": 5
}

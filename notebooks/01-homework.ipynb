{
 "cells": [
  {
   "cell_type": "code",
   "execution_count": 2,
   "id": "ae7ddee6",
   "metadata": {
    "ExecuteTime": {
     "end_time": "2024-01-27T13:41:44.940813500Z",
     "start_time": "2024-01-27T13:41:44.931587400Z"
    }
   },
   "outputs": [
    {
     "name": "stdout",
     "output_type": "stream",
     "text": [
      "{'mean': 3.4285714285714284, 'median': 3, 'mode': 1}\n"
     ]
    }
   ],
   "source": [
    "import statistics as stats\n",
    "\n",
    "\n",
    "def get_statistics(arr):\n",
    "    return {\"mean\": stats.mean(arr), \"median\": stats.median(arr), \"mode\": stats.mode(arr)}\n",
    "\n",
    "\n",
    "#testing\n",
    "print(get_statistics([0, 1, 1, 10, 5, 4, 3]))\n"
   ]
  },
  {
   "cell_type": "code",
   "outputs": [],
   "source": [],
   "metadata": {
    "collapsed": false
   },
   "id": "8a16ac1b7c3f18f"
  }
 ],
 "metadata": {
  "kernelspec": {
   "display_name": "Python 3 (ipykernel)",
   "language": "python",
   "name": "python3"
  },
  "language_info": {
   "codemirror_mode": {
    "name": "ipython",
    "version": 3
   },
   "file_extension": ".py",
   "mimetype": "text/x-python",
   "name": "python",
   "nbconvert_exporter": "python",
   "pygments_lexer": "ipython3",
   "version": "3.11.5"
  }
 },
 "nbformat": 4,
 "nbformat_minor": 5
}

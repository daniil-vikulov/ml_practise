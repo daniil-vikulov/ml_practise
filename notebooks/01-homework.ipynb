{
 "cells": [
  {
   "cell_type": "code",
   "execution_count": 4,
   "id": "ae7ddee6",
   "metadata": {
    "ExecuteTime": {
     "end_time": "2024-02-05T18:15:39.458630Z",
     "start_time": "2024-02-05T18:15:39.442417900Z"
    }
   },
   "outputs": [
    {
     "data": {
      "text/plain": "{'mean': 3.4286, 'median': 3, 'mode': 1}"
     },
     "execution_count": 4,
     "metadata": {},
     "output_type": "execute_result"
    }
   ],
   "source": [
    "def get_stats(numbers):\n",
    "    sorted_list = sorted(numbers)\n",
    "    n = len(numbers)\n",
    "\n",
    "    mean = sum(numbers) / n\n",
    "\n",
    "    if n % 2 == 0:\n",
    "        median = (sorted_list[n // 2 - 1] + sorted_list[n // 2]) / 2\n",
    "    else:\n",
    "        median = sorted_list[n // 2]\n",
    "\n",
    "    freq = {}\n",
    "    for x in numbers:\n",
    "        freq[x] = freq.get(x, 0) + 1\n",
    "        \n",
    "    max_freq = max(freq.values())\n",
    "    mode = [key for key, val in freq.items() if val == max_freq]\n",
    "\n",
    "    mode = mode[0]\n",
    "\n",
    "    return {\"mean\": round(mean, 4), \"median\": median, \"mode\": mode}\n",
    "\n",
    "get_stats([0, 1, 1, 10, 5, 4, 3])"
   ]
  },
  {
   "cell_type": "code",
   "outputs": [
    {
     "name": "stdout",
     "output_type": "stream",
     "text": [
      "{'': '59', 'attack_type': 'Melee', 'id': '61', 'legs': '8', 'localized_name': 'Broodmother', 'name': 'npc_dota_hero_broodmother', 'primary_attr': 'agi', 'roles': '\"[\\'Carry\\''}\n"
     ]
    }
   ],
   "source": [
    "def parse_csv(file_content):\n",
    "    lines = file_content.strip().split('\\n')\n",
    "    headers = lines[0].split(',')\n",
    "    data = []\n",
    "    \n",
    "    for line in lines[1:]:\n",
    "        values = line.split(',')\n",
    "        row_dict = dict(zip(headers, values))\n",
    "        data.append(row_dict)\n",
    "        \n",
    "    return data\n",
    "\n",
    "\n",
    "def find(data):\n",
    "    max_legs = 0\n",
    "    ans = None\n",
    "    for row in data:\n",
    "        if int(row['legs']) > max_legs:\n",
    "            max_legs = int(row['legs'])\n",
    "            ans = row\n",
    "            \n",
    "    return ans\n",
    "\n",
    "\n",
    "\n",
    "with open('../data/dota_hero_stats.csv', 'r') as file:\n",
    "    file_data = file.read()\n",
    "    \n",
    "parsed_data = parse_csv(file_data)\n",
    "character = find(parsed_data)\n",
    "print(character)\n"
   ],
   "metadata": {
    "collapsed": false,
    "ExecuteTime": {
     "end_time": "2024-02-05T19:11:02.598699100Z",
     "start_time": "2024-02-05T19:11:02.592847Z"
    }
   },
   "id": "8a16ac1b7c3f18f",
   "execution_count": 11
  }
 ],
 "metadata": {
  "kernelspec": {
   "display_name": "Python 3 (ipykernel)",
   "language": "python",
   "name": "python3"
  },
  "language_info": {
   "codemirror_mode": {
    "name": "ipython",
    "version": 3
   },
   "file_extension": ".py",
   "mimetype": "text/x-python",
   "name": "python",
   "nbconvert_exporter": "python",
   "pygments_lexer": "ipython3",
   "version": "3.11.5"
  }
 },
 "nbformat": 4,
 "nbformat_minor": 5
}

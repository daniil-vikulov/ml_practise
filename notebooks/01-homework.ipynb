{
 "cells": [
  {
   "cell_type": "code",
   "execution_count": 1,
   "id": "ae7ddee6",
   "metadata": {
    "ExecuteTime": {
     "end_time": "2024-02-05T17:42:14.247209300Z",
     "start_time": "2024-02-05T17:42:14.231645800Z"
    }
   },
   "outputs": [
    {
     "data": {
      "text/plain": "{'mean': 3.4286, 'median': 3, 'mode': 1}"
     },
     "execution_count": 1,
     "metadata": {},
     "output_type": "execute_result"
    }
   ],
   "source": [
    "def calculate_statistics(numbers):\n",
    "    sorted_list = sorted(numbers)\n",
    "    n = len(numbers)\n",
    "\n",
    "    mean = sum(numbers) / n\n",
    "\n",
    "    if n % 2 == 0:\n",
    "        median = (sorted_list[n // 2 - 1] + sorted_list[n // 2]) / 2\n",
    "    else:\n",
    "        median = sorted_list[n // 2]\n",
    "\n",
    "    freq = {}\n",
    "    for x in numbers:\n",
    "        freq[x] = freq.get(x, 0) + 1\n",
    "    max_freq = max(freq.values())\n",
    "    mode = [key for key, val in freq.items() if val == max_freq]\n",
    "\n",
    "    mode = mode[0]\n",
    "\n",
    "    return {\"mean\": round(mean, 4), \"median\": median, \"mode\": mode}\n",
    "\n",
    "calculate_statistics([0, 1, 1, 10, 5, 4, 3])"
   ]
  },
  {
   "cell_type": "code",
   "outputs": [],
   "source": [],
   "metadata": {
    "collapsed": false,
    "ExecuteTime": {
     "end_time": "2024-02-02T15:46:05.166407400Z",
     "start_time": "2024-02-02T15:46:05.153479500Z"
    }
   },
   "id": "8a16ac1b7c3f18f",
   "execution_count": 0
  },
  {
   "cell_type": "code",
   "outputs": [],
   "source": [],
   "metadata": {
    "collapsed": false
   },
   "id": "56076483c0c5b0ad"
  }
 ],
 "metadata": {
  "kernelspec": {
   "display_name": "Python 3 (ipykernel)",
   "language": "python",
   "name": "python3"
  },
  "language_info": {
   "codemirror_mode": {
    "name": "ipython",
    "version": 3
   },
   "file_extension": ".py",
   "mimetype": "text/x-python",
   "name": "python",
   "nbconvert_exporter": "python",
   "pygments_lexer": "ipython3",
   "version": "3.11.5"
  }
 },
 "nbformat": 4,
 "nbformat_minor": 5
}

{
 "cells": [
  {
   "metadata": {},
   "cell_type": "markdown",
   "source": "### Easy",
   "id": "e7135c6f352cf85c"
  },
  {
   "metadata": {
    "ExecuteTime": {
     "end_time": "2024-05-22T11:29:57.969160Z",
     "start_time": "2024-05-22T11:29:53.177341Z"
    }
   },
   "cell_type": "code",
   "source": "!C:\\Users\\dv\\AppData\\Local\\Programs\\Python\\Python312\\python.exe main.py train --data ../data/train.csv --test ../data/test.csv --model model.pkl",
   "id": "e4d88e4e4bc3403",
   "outputs": [
    {
     "name": "stdout",
     "output_type": "stream",
     "text": [
      "              precision    recall  f1-score   support\n",
      "\n",
      "           1       0.00      0.00      0.00         1\n",
      "           2       0.00      0.00      0.00         1\n",
      "           3       0.00      0.00      0.00         1\n",
      "           4       0.75      0.38      0.50         8\n",
      "           5       0.75      1.00      0.86        15\n",
      "\n",
      "    accuracy                           0.69        26\n",
      "   macro avg       0.30      0.28      0.27        26\n",
      "weighted avg       0.66      0.69      0.65        26\n",
      "\n"
     ]
    },
    {
     "name": "stderr",
     "output_type": "stream",
     "text": [
      "C:\\Users\\dv\\AppData\\Local\\Programs\\Python\\Python312\\Lib\\site-packages\\sklearn\\metrics\\_classification.py:1509: UndefinedMetricWarning: Precision is ill-defined and being set to 0.0 in labels with no predicted samples. Use `zero_division` parameter to control this behavior.\n",
      "  _warn_prf(average, modifier, f\"{metric.capitalize()} is\", len(result))\n",
      "C:\\Users\\dv\\AppData\\Local\\Programs\\Python\\Python312\\Lib\\site-packages\\sklearn\\metrics\\_classification.py:1509: UndefinedMetricWarning: Precision is ill-defined and being set to 0.0 in labels with no predicted samples. Use `zero_division` parameter to control this behavior.\n",
      "  _warn_prf(average, modifier, f\"{metric.capitalize()} is\", len(result))\n",
      "C:\\Users\\dv\\AppData\\Local\\Programs\\Python\\Python312\\Lib\\site-packages\\sklearn\\metrics\\_classification.py:1509: UndefinedMetricWarning: Precision is ill-defined and being set to 0.0 in labels with no predicted samples. Use `zero_division` parameter to control this behavior.\n",
      "  _warn_prf(average, modifier, f\"{metric.capitalize()} is\", len(result))\n"
     ]
    }
   ],
   "execution_count": 50
  },
  {
   "metadata": {
    "ExecuteTime": {
     "end_time": "2024-05-22T11:29:21.305820Z",
     "start_time": "2024-05-22T11:29:16.769932Z"
    }
   },
   "cell_type": "code",
   "source": "!C:\\Users\\dv\\AppData\\Local\\Programs\\Python\\Python312\\python.exe main.py train --data ../data/train.csv --split 0.2 --model model.pkl",
   "id": "3a743581c2e6aeae",
   "outputs": [
    {
     "name": "stdout",
     "output_type": "stream",
     "text": [
      "              precision    recall  f1-score   support\n",
      "\n",
      "           1       0.67      0.68      0.67       205\n",
      "           2       0.40      0.06      0.10       106\n",
      "           3       0.50      0.33      0.40       224\n",
      "           4       0.46      0.29      0.35       412\n",
      "           5       0.71      0.92      0.80      1048\n",
      "\n",
      "    accuracy                           0.66      1995\n",
      "   macro avg       0.55      0.46      0.47      1995\n",
      "weighted avg       0.61      0.66      0.61      1995\n",
      "\n"
     ]
    }
   ],
   "execution_count": 46
  },
  {
   "metadata": {
    "ExecuteTime": {
     "end_time": "2024-05-22T11:29:25.512492Z",
     "start_time": "2024-05-22T11:29:24.534578Z"
    }
   },
   "cell_type": "code",
   "source": "!C:\\Users\\dv\\AppData\\Local\\Programs\\Python\\Python312\\python.exe main.py predict --model model.pkl --data \"Although there flight was generally ok, there were some drabacks\"",
   "id": "21a25365edbae00c",
   "outputs": [
    {
     "name": "stdout",
     "output_type": "stream",
     "text": [
      "4\n"
     ]
    }
   ],
   "execution_count": 47
  },
  {
   "metadata": {
    "ExecuteTime": {
     "end_time": "2024-05-22T11:29:34.661904Z",
     "start_time": "2024-05-22T11:29:33.682048Z"
    }
   },
   "cell_type": "code",
   "source": "!C:\\Users\\dv\\AppData\\Local\\Programs\\Python\\Python312\\python.exe main.py predict --model model.pkl --data ../data/test.csv",
   "id": "19d51de1839439a4",
   "outputs": [
    {
     "name": "stdout",
     "output_type": "stream",
     "text": [
      "4\n",
      "5\n",
      "5\n",
      "4\n",
      "5\n",
      "5\n",
      "5\n",
      "5\n",
      "5\n",
      "5\n",
      "5\n",
      "1\n",
      "5\n",
      "5\n",
      "5\n",
      "5\n",
      "5\n",
      "1\n",
      "5\n",
      "5\n",
      "4\n",
      "5\n",
      "5\n",
      "5\n",
      "4\n",
      "5\n"
     ]
    }
   ],
   "execution_count": 49
  },
  {
   "metadata": {},
   "cell_type": "markdown",
   "source": "### Medium",
   "id": "f4c7c64e2d254040"
  },
  {
   "metadata": {},
   "cell_type": "markdown",
   "source": "### Hard",
   "id": "1962b59c41e44d00"
  },
  {
   "metadata": {},
   "cell_type": "code",
   "outputs": [],
   "execution_count": null,
   "source": "",
   "id": "93aed83c8bb45b8f"
  }
 ],
 "metadata": {
  "kernelspec": {
   "display_name": "Python 3 (ipykernel)",
   "language": "python",
   "name": "python3"
  },
  "language_info": {
   "codemirror_mode": {
    "name": "ipython",
    "version": 3
   },
   "file_extension": ".py",
   "mimetype": "text/x-python",
   "name": "python",
   "nbconvert_exporter": "python",
   "pygments_lexer": "ipython3",
   "version": "3.11.5"
  }
 },
 "nbformat": 4,
 "nbformat_minor": 5
}
